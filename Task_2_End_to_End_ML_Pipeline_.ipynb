{
  "nbformat": 4,
  "nbformat_minor": 0,
  "metadata": {
    "colab": {
      "provenance": [],
      "gpuType": "T4"
    },
    "kernelspec": {
      "name": "python3",
      "display_name": "Python 3"
    },
    "language_info": {
      "name": "python"
    },
    "accelerator": "GPU"
  },
  "cells": [
    {
      "cell_type": "markdown",
      "metadata": {
        "id": "0ebc3911"
      },
      "source": [
        "# Task\n",
        "Build an end-to-end machine learning pipeline using Scikit-learn's Pipeline API to predict customer churn on the Telco Churn dataset. The pipeline should include data preprocessing (scaling, encoding), model training (Logistic Regression, Random Forest), hyperparameter tuning with GridSearchCV, and the final pipeline should be exported using joblib."
      ]
    },
    {
      "cell_type": "markdown",
      "metadata": {
        "id": "f7af7384"
      },
      "source": [
        "## Load data\n",
        "\n",
        "### Subtask:\n",
        "Load the Telco Churn dataset into a pandas DataFrame.\n"
      ]
    },
    {
      "cell_type": "markdown",
      "metadata": {
        "id": "2928b9a9"
      },
      "source": [
        "**Reasoning**:\n",
        "Load the data into a pandas DataFrame.\n",
        "\n"
      ]
    },
    {
      "cell_type": "code",
      "metadata": {
        "id": "3f7ab14a"
      },
      "source": [
        "import pandas as pd\n",
        "\n",
        "df = pd.read_csv('/content/WA_Fn-UseC_-Telco-Customer-Churn.csv')"
      ],
      "execution_count": null,
      "outputs": []
    },
    {
      "cell_type": "markdown",
      "metadata": {
        "id": "155ae3d4"
      },
      "source": [
        "## Preprocessing\n",
        "\n",
        "### Subtask:\n",
        "Define and apply preprocessing steps for numerical and categorical features using `ColumnTransformer`.\n"
      ]
    },
    {
      "cell_type": "markdown",
      "metadata": {
        "id": "1fb9b9cb"
      },
      "source": [
        "**Reasoning**:\n",
        "Separate the target variable, convert it to numerical, identify numerical and categorical features, create a ColumnTransformer with StandardScaler and OneHotEncoder, and apply the preprocessor to the data. Then split the preprocessed data and the target variable into training and testing sets.\n",
        "\n"
      ]
    },
    {
      "cell_type": "markdown",
      "metadata": {
        "id": "6fe169d6"
      },
      "source": [
        "**Reasoning**:\n",
        "The previous code failed because the 'customerID' column, which is a string and not a numeric or convertible to numeric type, was included when applying the preprocessor due to `remainder='passthrough'`. To fix this, I will explicitly drop the 'customerID' column from the DataFrame `X` before applying the `ColumnTransformer`.\n",
        "\n"
      ]
    },
    {
      "cell_type": "code",
      "metadata": {
        "colab": {
          "base_uri": "https://localhost:8080/"
        },
        "id": "kClZZQpFdI0Q",
        "outputId": "26fa1992-8dcc-4f88-c12a-ffcf8f4fb04e"
      },
      "source": [
        "from sklearn.compose import ColumnTransformer\n",
        "from sklearn.preprocessing import OneHotEncoder, StandardScaler\n",
        "from sklearn.model_selection import train_test_split\n",
        "\n",
        "# 1. Separate the target variable 'Churn' and convert to numerical\n",
        "y = df['Churn'].apply(lambda x: 1 if x == 'Yes' else 0)\n",
        "X = df.drop('Churn', axis=1)\n",
        "\n",
        "# Drop the 'customerID' column before preprocessing\n",
        "X = X.drop('customerID', axis=1)\n",
        "\n",
        "# 2. Identify numerical and categorical columns\n",
        "numerical_features = X.select_dtypes(include=['int64', 'float64']).columns\n",
        "categorical_features = X.select_dtypes(include=['object']).columns\n",
        "\n",
        "# 4. Create a ColumnTransformer\n",
        "preprocessor = ColumnTransformer(\n",
        "    transformers=[\n",
        "        ('num', StandardScaler(), numerical_features),\n",
        "        ('cat', OneHotEncoder(handle_unknown='ignore'), categorical_features)\n",
        "    ]\n",
        ")\n",
        "\n",
        "# 5. Apply the preprocessor\n",
        "X_processed = preprocessor.fit_transform(X)\n",
        "\n",
        "# 6. Split the preprocessed data and the target variable into training and testing sets\n",
        "X_train, X_test, y_train, y_test = train_test_split(X_processed, y, test_size=0.2, random_state=42)\n",
        "\n",
        "print(\"Shape of X_train:\", X_train.shape)\n",
        "print(\"Shape of X_test:\", X_test.shape)\n",
        "print(\"Shape of y_train:\", y_train.shape)\n",
        "print(\"Shape of y_test:\", y_test.shape)"
      ],
      "execution_count": null,
      "outputs": [
        {
          "output_type": "stream",
          "name": "stdout",
          "text": [
            "Shape of X_train: (5634, 6575)\n",
            "Shape of X_test: (1409, 6575)\n",
            "Shape of y_train: (5634,)\n",
            "Shape of y_test: (1409,)\n"
          ]
        }
      ]
    },
    {
      "cell_type": "markdown",
      "metadata": {
        "id": "99c2fb62"
      },
      "source": [
        "## Pipeline construction\n",
        "\n",
        "### Subtask:\n",
        "Create a Scikit-learn `Pipeline` that includes preprocessing and a placeholder for the model.\n"
      ]
    },
    {
      "cell_type": "markdown",
      "metadata": {
        "id": "59d0e5ec"
      },
      "source": [
        "**Reasoning**:\n",
        "Create a Scikit-learn Pipeline that includes the preprocessor and a placeholder for the model.\n",
        "\n"
      ]
    },
    {
      "cell_type": "code",
      "metadata": {
        "colab": {
          "base_uri": "https://localhost:8080/"
        },
        "id": "d3eca4b4",
        "outputId": "e8a4fd37-242f-4790-995c-9905f3a93ffd"
      },
      "source": [
        "from sklearn.pipeline import Pipeline\n",
        "\n",
        "# Create the pipeline\n",
        "pipeline = Pipeline([\n",
        "    ('preprocessor', preprocessor),\n",
        "    ('classifier', 'passthrough') # Placeholder for the classifier\n",
        "])\n",
        "\n",
        "print(\"Pipeline created successfully:\")\n",
        "print(pipeline)"
      ],
      "execution_count": null,
      "outputs": [
        {
          "output_type": "stream",
          "name": "stdout",
          "text": [
            "Pipeline created successfully:\n",
            "Pipeline(steps=[('preprocessor',\n",
            "                 ColumnTransformer(transformers=[('num', StandardScaler(),\n",
            "                                                  Index(['SeniorCitizen', 'tenure', 'MonthlyCharges'], dtype='object')),\n",
            "                                                 ('cat',\n",
            "                                                  OneHotEncoder(handle_unknown='ignore'),\n",
            "                                                  Index(['gender', 'Partner', 'Dependents', 'PhoneService', 'MultipleLines',\n",
            "       'InternetService', 'OnlineSecurity', 'OnlineBackup', 'DeviceProtection',\n",
            "       'TechSupport', 'StreamingTV', 'StreamingMovies', 'Contract',\n",
            "       'PaperlessBilling', 'PaymentMethod', 'TotalCharges'],\n",
            "      dtype='object'))])),\n",
            "                ('classifier', 'passthrough')])\n"
          ]
        }
      ]
    },
    {
      "cell_type": "markdown",
      "metadata": {
        "id": "24307b0c"
      },
      "source": [
        "## Model training and hyperparameter tuning\n",
        "\n",
        "### Subtask:\n",
        "Define parameter grids for Logistic Regression and Random Forest models. Use `GridSearchCV` to train each model within the pipeline and find the best hyperparameters.\n"
      ]
    },
    {
      "cell_type": "markdown",
      "metadata": {
        "id": "c533dce3"
      },
      "source": [
        "**Reasoning**:\n",
        "Define parameter grids for Logistic Regression and Random Forest, create GridSearchCV objects for each, and fit them to the training data to find the best hyperparameters.\n",
        "\n"
      ]
    },
    {
      "cell_type": "code",
      "metadata": {
        "colab": {
          "base_uri": "https://localhost:8080/"
        },
        "id": "2tKMWINodcty",
        "outputId": "b4928c0a-24f8-4a96-8a35-8ca42762fac5"
      },
      "source": [
        "from sklearn.linear_model import LogisticRegression\n",
        "from sklearn.ensemble import RandomForestClassifier\n",
        "from sklearn.model_selection import GridSearchCV\n",
        "from sklearn.pipeline import Pipeline\n",
        "from sklearn.compose import ColumnTransformer\n",
        "from sklearn.preprocessing import OneHotEncoder, StandardScaler\n",
        "from sklearn.model_selection import train_test_split\n",
        "import pandas as pd\n",
        "\n",
        "# Re-split the data to get X_train and y_train as dataframes/series before preprocessing\n",
        "# Assuming df, y are available from previous steps and X was derived from df\n",
        "# Drop 'customerID' and 'Churn' from X before splitting\n",
        "X = df.drop(['customerID', 'Churn'], axis=1)\n",
        "y = df['Churn'].apply(lambda x: 1 if x == 'Yes' else 0)\n",
        "\n",
        "X_train, X_test, y_train, y_test = train_test_split(X, y, test_size=0.2, random_state=42)\n",
        "\n",
        "\n",
        "# Identify numerical and categorical columns from the original X dataframe\n",
        "numerical_features = X.select_dtypes(include=['int64', 'float64']).columns\n",
        "categorical_features = X.select_dtypes(include=['object']).columns\n",
        "\n",
        "# Create a ColumnTransformer\n",
        "preprocessor = ColumnTransformer(\n",
        "    transformers=[\n",
        "        ('num', StandardScaler(), numerical_features),\n",
        "        ('cat', OneHotEncoder(handle_unknown='ignore'), categorical_features)\n",
        "    ])\n",
        "\n",
        "# 2. Define param_grid_lr with hyperparameters for Logistic Regression\n",
        "param_grid_lr = {\n",
        "    'classifier__C': [0.001, 0.01, 0.1, 1, 10, 100],\n",
        "    'classifier__penalty': ['l2']\n",
        "}\n",
        "\n",
        "# 3. Define param_grid_rf with hyperparameters for Random Forest\n",
        "param_grid_rf = {\n",
        "    'classifier__n_estimators': [50, 100, 200],\n",
        "    'classifier__max_depth': [None, 10, 20, 30],\n",
        "    'classifier__min_samples_split': [2, 5, 10]\n",
        "}\n",
        "\n",
        "# Create a pipeline that includes the preprocessor and a classifier placeholder\n",
        "pipeline = Pipeline([\n",
        "    ('preprocessor', preprocessor),\n",
        "    ('classifier', 'passthrough') # Placeholder for the classifier\n",
        "])\n",
        "\n",
        "# Create separate pipelines for GridSearchCV with the specific classifiers\n",
        "pipeline_lr = Pipeline([\n",
        "    ('preprocessor', preprocessor),\n",
        "    ('classifier', LogisticRegression())\n",
        "])\n",
        "\n",
        "pipeline_rf = Pipeline([\n",
        "    ('preprocessor', preprocessor),\n",
        "    ('classifier', RandomForestClassifier())\n",
        "])\n",
        "\n",
        "# 5. Create a GridSearchCV object for Logistic Regression\n",
        "grid_search_lr = GridSearchCV(pipeline_lr, param_grid_lr, cv=5, scoring='roc_auc', n_jobs=-1)\n",
        "\n",
        "# 6. Fit the Logistic Regression GridSearchCV object to the training data\n",
        "print(\"Performing GridSearchCV for Logistic Regression...\")\n",
        "grid_search_lr.fit(X_train, y_train)\n",
        "print(\"GridSearchCV for Logistic Regression completed.\")\n",
        "\n",
        "# 7. Create a GridSearchCV object for Random Forest\n",
        "grid_search_rf = GridSearchCV(pipeline_rf, param_grid_rf, cv=5, scoring='roc_auc', n_jobs=-1)\n",
        "\n",
        "# 8. Fit the Random Forest GridSearchCV object to the training data\n",
        "print(\"Performing GridSearchCV for Random Forest...\")\n",
        "grid_search_rf.fit(X_train, y_train)\n",
        "print(\"GridSearchCV for Random Forest completed.\")\n",
        "\n",
        "# 9. Store the best estimators for both models\n",
        "best_lr_model = grid_search_lr.best_estimator_\n",
        "best_rf_model = grid_search_rf.best_estimator_\n",
        "\n",
        "print(\"\\nBest parameters found for Logistic Regression:\")\n",
        "print(grid_search_lr.best_params_)\n",
        "print(\"\\nBest parameters found for Random Forest:\")\n",
        "print(grid_search_rf.best_params_)"
      ],
      "execution_count": null,
      "outputs": [
        {
          "output_type": "stream",
          "name": "stdout",
          "text": [
            "Performing GridSearchCV for Logistic Regression...\n",
            "GridSearchCV for Logistic Regression completed.\n",
            "Performing GridSearchCV for Random Forest...\n",
            "GridSearchCV for Random Forest completed.\n",
            "\n",
            "Best parameters found for Logistic Regression:\n",
            "{'classifier__C': 1, 'classifier__penalty': 'l2'}\n",
            "\n",
            "Best parameters found for Random Forest:\n",
            "{'classifier__max_depth': None, 'classifier__min_samples_split': 10, 'classifier__n_estimators': 200}\n"
          ]
        }
      ]
    },
    {
      "cell_type": "markdown",
      "metadata": {
        "id": "d0b9c02d"
      },
      "source": [
        "## Model evaluation\n",
        "\n",
        "### Subtask:\n",
        "Evaluate the performance of the best models found by `GridSearchCV`.\n"
      ]
    },
    {
      "cell_type": "markdown",
      "metadata": {
        "id": "30f3f477"
      },
      "source": [
        "**Reasoning**:\n",
        "Use the best models to predict probabilities on the test set and calculate the AUC-ROC scores.\n",
        "\n"
      ]
    },
    {
      "cell_type": "code",
      "metadata": {
        "colab": {
          "base_uri": "https://localhost:8080/"
        },
        "id": "407d2400",
        "outputId": "eefe37d6-0c96-432c-b980-604bd40cb7a3"
      },
      "source": [
        "from sklearn.metrics import roc_auc_score\n",
        "\n",
        "# 1. Use the best Logistic Regression model to predict probabilities on the test set\n",
        "y_pred_proba_lr = best_lr_model.predict_proba(X_test)[:, 1]\n",
        "\n",
        "# 2. Use the best Random Forest model to predict probabilities on the test set\n",
        "y_pred_proba_rf = best_rf_model.predict_proba(X_test)[:, 1]\n",
        "\n",
        "# 3. Calculate the Area Under the Receiver Operating Characteristic Curve (AUC-ROC) for both models\n",
        "auc_roc_lr = roc_auc_score(y_test, y_pred_proba_lr)\n",
        "auc_roc_rf = roc_auc_score(y_test, y_pred_proba_rf)\n",
        "\n",
        "# 4. Print the AUC-ROC score for the best Logistic Regression model\n",
        "print(f\"AUC-ROC Score for Best Logistic Regression Model: {auc_roc_lr:.4f}\")\n",
        "\n",
        "# 5. Print the AUC-ROC score for the best Random Forest model\n",
        "print(f\"AUC-ROC Score for Best Random Forest Model: {auc_roc_rf:.4f}\")"
      ],
      "execution_count": null,
      "outputs": [
        {
          "output_type": "stream",
          "name": "stdout",
          "text": [
            "AUC-ROC Score for Best Logistic Regression Model: 0.8608\n",
            "AUC-ROC Score for Best Random Forest Model: 0.8521\n"
          ]
        }
      ]
    },
    {
      "cell_type": "markdown",
      "metadata": {
        "id": "6a3d8ebf"
      },
      "source": [
        "## Export pipeline\n",
        "\n",
        "### Subtask:\n",
        "Export the best performing pipeline using `joblib`.\n"
      ]
    },
    {
      "cell_type": "markdown",
      "metadata": {
        "id": "a428a46e"
      },
      "source": [
        "**Reasoning**:\n",
        "Compare the AUC-ROC scores of the two models to determine the best performing pipeline and then export it using joblib.\n",
        "\n"
      ]
    },
    {
      "cell_type": "code",
      "metadata": {
        "colab": {
          "base_uri": "https://localhost:8080/"
        },
        "id": "045c632e",
        "outputId": "005f4322-18f0-4039-cb8c-dd434e293916"
      },
      "source": [
        "import joblib\n",
        "\n",
        "# Determine the best performing pipeline based on AUC-ROC score\n",
        "if auc_roc_lr > auc_roc_rf:\n",
        "    best_pipeline = best_lr_model\n",
        "    print(\"Logistic Regression pipeline performed better.\")\n",
        "else:\n",
        "    best_pipeline = best_rf_model\n",
        "    print(\"Random Forest pipeline performed better.\")\n",
        "\n",
        "# Export the best performing pipeline using joblib\n",
        "joblib.dump(best_pipeline, 'best_churn_prediction_pipeline.joblib')\n",
        "print(\"Best performing pipeline exported successfully.\")"
      ],
      "execution_count": null,
      "outputs": [
        {
          "output_type": "stream",
          "name": "stdout",
          "text": [
            "Logistic Regression pipeline performed better.\n",
            "Best performing pipeline exported successfully.\n"
          ]
        }
      ]
    },
    {
      "cell_type": "code",
      "source": [
        "from sklearn.metrics import confusion_matrix, ConfusionMatrixDisplay\n",
        "import matplotlib.pyplot as plt\n",
        "\n",
        "# Get predictions for the best Logistic Regression model\n",
        "y_pred_lr = best_lr_model.predict(X_test)\n",
        "\n",
        "# Get predictions for the best Random Forest model\n",
        "y_pred_rf = best_rf_model.predict(X_test)\n",
        "\n",
        "# Calculate and print the confusion matrix for Logistic Regression\n",
        "cm_lr = confusion_matrix(y_test, y_pred_lr)\n",
        "disp_lr = ConfusionMatrixDisplay(confusion_matrix=cm_lr, display_labels=['No Churn', 'Churn'])\n",
        "print(\"Confusion Matrix for Logistic Regression:\")\n",
        "disp_lr.plot()\n",
        "plt.title(\"Confusion Matrix - Logistic Regression\")\n",
        "plt.show()\n",
        "\n",
        "# Calculate and print the confusion matrix for Random Forest\n",
        "cm_rf = confusion_matrix(y_test, y_pred_rf)\n",
        "disp_rf = ConfusionMatrixDisplay(confusion_matrix=cm_rf, display_labels=['No Churn', 'Churn'])\n",
        "print(\"\\nConfusion Matrix for Random Forest:\")\n",
        "disp_rf.plot()\n",
        "plt.title(\"Confusion Matrix - Random Forest\")\n",
        "plt.show()"
      ],
      "metadata": {
        "colab": {
          "base_uri": "https://localhost:8080/",
          "height": 979
        },
        "id": "B5ZWWKR6fYSr",
        "outputId": "dcd50a4d-bc71-4d9f-8027-981f1503840e"
      },
      "execution_count": null,
      "outputs": [
        {
          "output_type": "stream",
          "name": "stdout",
          "text": [
            "Confusion Matrix for Logistic Regression:\n"
          ]
        },
        {
          "output_type": "display_data",
          "data": {
            "text/plain": [
              "<Figure size 640x480 with 2 Axes>"
            ],
            "image/png": "[encoded data removed]"
          },
          "metadata": {}
        },
        {
          "output_type": "stream",
          "name": "stdout",
          "text": [
            "\n",
            "Confusion Matrix for Random Forest:\n"
          ]
        },
        {
          "output_type": "display_data",
          "data": {
            "text/plain": [
              "<Figure size 640x480 with 2 Axes>"
            ],
            "image/png": "[encoded data removed]"
          },
          "metadata": {}
        }
      ]
    },
    {
      "cell_type": "markdown",
      "metadata": {
        "id": "c1de7792"
      },
      "source": [
        "## Findings and Insights\n",
        "\n",
        "Based on the analysis, here are the key findings and insights:\n",
        "\n",
        "1.  **Model Performance**: Both Logistic Regression and Random Forest models performed reasonably well in predicting customer churn, with AUC-ROC scores above 0.85.\n",
        "2.  **Best Performing Model**: The Logistic Regression model had a slightly higher AUC-ROC score (0.8608) compared to the Random Forest model (0.8521), indicating it is marginally better at distinguishing between churn and non-churn customers in this case.\n",
        "3.  **Confusion Matrix - Logistic Regression**:\n",
        "    *   **True Positives (Churn predicted as Churn)**: 222\n",
        "    *   **True Negatives (No Churn predicted as No Churn)**: 939\n",
        "    *   **False Positives (No Churn predicted as Churn)**: 97 (Type I error)\n",
        "    *   **False Negatives (Churn predicted as No Churn)**: 151 (Type II error)\n",
        "    This means the Logistic Regression model correctly identified 222 churn customers and 939 non-churn customers. It incorrectly predicted 97 non-churn customers as churn and missed 151 churn customers.\n",
        "4.  **Confusion Matrix - Random Forest**:\n",
        "    *   **True Positives (Churn predicted as Churn)**: 172\n",
        "    *   **True Negatives (No Churn predicted as No Churn)**: 956\n",
        "    *   **False Positives (No Churn predicted as Churn)**: 80 (Type I error)\n",
        "    *   **False Negatives (Churn predicted as No Churn)**: 201 (Type II error)\n",
        "    The Random Forest model correctly identified 172 churn customers and 956 non-churn customers. It incorrectly predicted 80 non-churn customers as churn and missed 201 churn customers.\n",
        "\n",
        "**Insights**:\n",
        "\n",
        "*   The Logistic Regression model has a better balance between identifying churn customers (higher True Positives) and minimizing missed churn customers (lower False Negatives) compared to the Random Forest model, which aligns with its higher AUC-ROC score.\n",
        "*   Both models have a significant number of false negatives, meaning they are failing to identify a notable portion of customers who will churn. This could be an area for improvement, perhaps by exploring different models, feature engineering, or techniques to handle imbalanced datasets if churn is a minority class.\n",
        "*   The confusion matrices provide a detailed breakdown of the model's performance, which can be useful for understanding the types of errors the model is making and deciding which model is best suited for the business needs (e.g., minimizing false positives vs. minimizing false negatives).\n",
        "\n",
        "In conclusion, the Logistic Regression model is the better choice in this scenario based on the evaluation metrics and confusion matrices. The exported pipeline contains this model and the necessary preprocessing steps, making it ready for deployment."
      ]
    }
  ]
}